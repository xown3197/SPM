{
  "nbformat": 4,
  "nbformat_minor": 0,
  "metadata": {
    "colab": {
      "name": "Final_term_Project.ipynb",
      "provenance": [],
      "collapsed_sections": []
    },
    "kernelspec": {
      "name": "python3",
      "display_name": "Python 3"
    },
    "accelerator": "GPU"
  },
  "cells": [
    {
      "cell_type": "code",
      "metadata": {
        "id": "_lT9_4RxS-Kz",
        "colab_type": "code",
        "colab": {}
      },
      "source": [
        "from google.colab import drive\n",
        "drive.mount('/content/drive')\n",
        "\n",
        "!ls -lha kaggle.json\n",
        "\n",
        "!pip uninstall -y kaggle\n",
        "!pip install --upgrade pip\n",
        "!pip install kaggle==1.5.6\n",
        "\n",
        "# 캐글연동을 위한 토큰 입력\n",
        "! mkdir -p ~/.kaggle\n",
        "! cp kaggle.json ~/.kaggle/\n",
        "! chmod 600 ~/.kaggle/kaggle.json\n",
        "\n",
        "\n",
        "# 버전이 1.5.6 이 아니면, 진행할 수 없다\n",
        "! kaggle -v\n",
        "\n",
        "! yes | pip3 uninstall opencv-python\n",
        "! yes | pip3 uninstall opencv-contrib-python\n",
        "! yes | pip3 install opencv-python==3.4.2.16\n",
        "! yes | pip3 install opencv-contrib-python==3.4.2.16"
      ],
      "execution_count": 0,
      "outputs": []
    },
    {
      "cell_type": "code",
      "metadata": {
        "id": "BbVm6K5VMHCW",
        "colab_type": "code",
        "colab": {}
      },
      "source": [
        "! yes | pip3 uninstall opencv-python\n",
        "! yes | pip3 uninstall opencv-contrib-python\n",
        "! yes | pip3 install opencv-python==3.4.2.16\n",
        "! yes | pip3 install opencv-contrib-python==3.4.2.16"
      ],
      "execution_count": 0,
      "outputs": []
    },
    {
      "cell_type": "code",
      "metadata": {
        "id": "B3Jh5oaXKAiL",
        "colab_type": "code",
        "colab": {}
      },
      "source": [
        "import matplotlib.pyplot as plt\n",
        "from tqdm import tqdm_notebook as tqdm\n",
        "import pandas as pd\n",
        "import cv2\n",
        "import numpy as np\n",
        "from scipy.cluster.vq import vq\n",
        "from sklearn.preprocessing import StandardScaler\n",
        "from sklearn.svm import SVC\n",
        "import zipfile\n",
        "import os\n",
        "import pickle\n",
        "import torch\n",
        "import numpy as np\n",
        "import random\n",
        "import sys\n",
        "from sklearn.svm import LinearSVC\n",
        "from sklearn.model_selection import GridSearchCV\n",
        "from sklearn.metrics import classification_report\n",
        "from sklearn.model_selection import train_test_split"
      ],
      "execution_count": 0,
      "outputs": []
    },
    {
      "cell_type": "code",
      "metadata": {
        "id": "F8h93Mqamkd8",
        "colab_type": "code",
        "colab": {}
      },
      "source": [
        "## 코드북 로드\n",
        "############################################\n",
        "\n",
        "n_cluster = 2048\n",
        "\n",
        "codebook = pickle.load(open(\"/content/drive/My Drive/패턴인식/2048codebook.npy\", 'rb'))\n",
        "\n",
        "############################################\n",
        "\n",
        "\n",
        "def dense_sift_each(imgGray):\n",
        "   sift = cv2.xfeatures2d_SIFT.create()\n",
        "\n",
        "   keypoints = []\n",
        "   w, h = np.array(imgGray).shape\n",
        "   #print(imgGray.shape)\n",
        "   for i in range(0, h, 8):\n",
        "       for j in range(0, w, 8):\n",
        "           keypoints.append(cv2.KeyPoint(i, j, 8))\n",
        "   kp, des = sift.compute(imgGray, keypoints)\n",
        "\n",
        "   return kp, des\n",
        "\n",
        "\n",
        "def weak_sift_each(imgGray):\n",
        "  sift = cv2.xfeatures2d_SIFT.create()\n",
        "  kp, des = sift.detectAndCompute(imgGray, None)\n",
        "  return kp, des\n",
        "\n",
        "\n",
        "def HistogramIntersection(X, Y):\n",
        "    x = X.shape[0]\n",
        "    y = Y.shape[0]\n",
        "\n",
        "    result = np.zeros((x,y))\n",
        "    for i in range(x):\n",
        "        for j in range(y):\n",
        "            temp = np.sum(np.minimum(X[i], Y[j]))\n",
        "            result[i][j] = temp\n",
        "    return result\n",
        "\n",
        "\n",
        "def HI_SVM(x_train, x_test, y_train):\n",
        "\n",
        "  gramMatrix = HistogramIntersection(x_train, x_train)\n",
        "  clf = SVC(kernel='precomputed')\n",
        "  clf.fit(gramMatrix, y_train)\n",
        "\n",
        "  predictMatrix = HistogramIntersection(x_test, x_train)\n",
        "  SVMResults = clf.predict(predictMatrix)\n",
        "\n",
        "  return SVMResults\n",
        " \n",
        "\n",
        "def LSVM(x_train, x_test, y_train):\n",
        "\n",
        "  param_range = [ 0.0001, 0.001, 0.01, 0.1, 1 ,10 ,100 ]\n",
        "  param_grid = {'C': param_range}\n",
        "  clf = LinearSVC(class_weight='balanced')\n",
        "  grid = GridSearchCV(clf, param_grid, verbose = 3)\n",
        "  grid.fit(x_train, y_train)\n",
        "\n",
        "  print(grid.best_params_)\n",
        "\n",
        "  SVMResults = grid.predict(x_test)\n",
        "\n",
        "  return SVMResults\n",
        "\n",
        "def histogram(des, codebook):\n",
        "\n",
        "  codeword, _ = vq(des, codebook)\n",
        "  his, _ = np.histogram(codeword, bins=list(range(n_cluster+1)))\n",
        "\n",
        "  return his\n",
        "\n",
        "\n",
        "def build(imgs, codebook):\n",
        "  data = []\n",
        "\n",
        "  for img in tqdm(imgs):\n",
        "    _, des = dense_sift_each(img)\n",
        "    des = np.asarray(des)\n",
        "    des = np.resize(des, (32, 32, 128))\n",
        "    des = cutted(des, 2)\n",
        "    des = np.asarray(des)\n",
        "    l, _, _, _ = des.shape\n",
        "\n",
        "    hist = []\n",
        "\n",
        "    for i in range(0,l):\n",
        "      tmp = np.resize(des[i], (64 ,128))\n",
        "      his = histogram(tmp, codebook)\n",
        "      hist.append(his)\n",
        "\n",
        "    data.append(hist)\n",
        "\n",
        "  return data\n",
        "\n",
        "\n",
        "def cutted(src, level=2):\n",
        "  h_end, w_end, _ = src.shape\n",
        "  cutted_img = []\n",
        "  w_start = 0\n",
        "  h_start = 0\n",
        "  w = w_end // (2**level)\n",
        "  h = h_end // (2**level)\n",
        "  #print(\"step size :\",w, h)\n",
        "  if level != 0:\n",
        "    for j in range(2 ** level):\n",
        "      for i in range(2 ** level):\n",
        "        #print(h_start, w_start)\n",
        "        img = src[h_start:h_start + h, w_start:w_start + w]\n",
        "        #print(img)\n",
        "        cutted_img.append(img)\n",
        "        w_start += h\n",
        "        if (w_start+h == w_end+w):\n",
        "          #print (\"gogo\")\n",
        "          w_start = 0\n",
        "          h_start += h\n",
        "  else: cutted_img = src\n",
        "  #print(\"Number of cut imgs :\",len(cutted_img))\n",
        "  #plt.imshow(cutted_img[0])\n",
        "  return cutted_img\n",
        "\n",
        "\n",
        "def pyramid(his, level):\n",
        "  his1 = np.array([[his[0] + his[1] + his[4] + his[5]], [his[2] + his[3] + his[6] + his[7]], [his[8] + his[9] + his[12] + his[13]], [his[10] + his[11] + his[14] + his[15]]])\n",
        "  his0 = his1[0] + his1[1] + his1[2] + his1[3]\n",
        "  his0 = np.ravel(his0, order='C')\n",
        "  his1 = np.ravel(his1, order='C')\n",
        "  his2 = his\n",
        "  his2 = np.ravel(his2, order='C')\n",
        "\n",
        "  if level == 0:\n",
        "    return np.asarray(his0)\n",
        "\n",
        "  py = np.hstack((his0 * 0.25, his1 * 0.25))\n",
        "\n",
        "  if level == 1:\n",
        "    return py\n",
        "\n",
        "  if level == 2:\n",
        "    return np.hstack((py, his2 * 0.5))"
      ],
      "execution_count": 0,
      "outputs": []
    },
    {
      "cell_type": "markdown",
      "metadata": {
        "id": "n4Bvpdc0Iye_",
        "colab_type": "text"
      },
      "source": [
        "## 데이터 로드 및 가공"
      ]
    },
    {
      "cell_type": "code",
      "metadata": {
        "id": "OHyQOIORTHDm",
        "colab_type": "code",
        "colab": {}
      },
      "source": [
        "! kaggle competitions download -c 2019-ml-finalproject\n",
        "\n",
        "zip_ref = zipfile.ZipFile(\"/content/2019-ml-finalproject.zip\", 'r')\n",
        "zip_ref.extractall(\"/content\")\n",
        "zip_ref.close()\n",
        "\n",
        "df_data = pd.read_csv('/content/Label2Names.csv', header=None)\n",
        "\n",
        "DATA_ROOT_TRAIN = \"./train\"\n",
        "\n",
        "train_imgs = []\n",
        "y_train = []\n",
        "i = 0\n",
        "\n",
        "for cls in tqdm(os.listdir(DATA_ROOT_TRAIN)):\n",
        "  img_list = os.listdir(DATA_ROOT_TRAIN + '/' + cls)\n",
        "  img_list.sort()\n",
        "\n",
        "  if cls == 'BACKGROUND_Google' :\n",
        "    label = 102\n",
        "    continue\n",
        "  else :\n",
        "    label = (df_data.index[df_data[1]==cls]+1).tolist()[0]\n",
        "\n",
        "  for img in img_list :\n",
        "    image = cv2.imread(DATA_ROOT_TRAIN + '/' + cls + '/' + img)\n",
        "    gray = cv2.cvtColor(image, cv2.COLOR_BGR2GRAY)\n",
        "    gray = cv2.resize(gray, (256, 256))\n",
        "    train_imgs.append(gray)\n",
        "    y_train.append(label)\n",
        "\n",
        "\n",
        "DATA_ROOT_TEST = \"./testAll_v2\"\n",
        "\n",
        "test_imgs = []\n",
        "test_des = list()\n",
        "\n",
        "img_list = os.listdir(DATA_ROOT_TEST)\n",
        "img_list.sort()\n",
        "\n",
        "y_test = []\n",
        "\n",
        "for cls in tqdm(img_list):\n",
        "  image = cv2.imread(DATA_ROOT_TEST + '/' + cls)\n",
        "  gray = cv2.cvtColor(image, cv2.COLOR_BGR2GRAY)\n",
        "  gray = cv2.resize(gray, (256, 256))\n",
        "  test_imgs.append(gray)\n",
        "  y_test.append(cls)"
      ],
      "execution_count": 0,
      "outputs": []
    },
    {
      "cell_type": "markdown",
      "metadata": {
        "id": "GdO9P2YZI9cP",
        "colab_type": "text"
      },
      "source": [
        "## GPU Kmeans"
      ]
    },
    {
      "cell_type": "code",
      "metadata": {
        "id": "4eb3Hnr0c8jE",
        "colab_type": "code",
        "colab": {}
      },
      "source": [
        "# ! pip install kmc2\n",
        "\n",
        "# train_des = list()\n",
        "\n",
        "# for img in tqdm(train_imgs):\n",
        "#   _, des = dense_sift_PCA(img)\n",
        "#   train_des.append(des)\n",
        "\n",
        "# import kmc2\n",
        "\n",
        "# np.array(train_des).shape\n",
        "# train_codebook = np.array(train_des).reshape(-1,96)\n",
        "# print(train_codebook.shape)\n",
        "\n",
        "# codebooksize = 1024\n",
        "\n",
        "# seeding = kmc2.kmc2(train_codebook, codebooksize) \n",
        "# from sklearn.cluster import MiniBatchKMeans\n",
        "# Kmeans = MiniBatchKMeans(codebooksize, init=seeding).fit(train_codebook)\n",
        "# codebook = Kmeans.cluster_centers_\n"
      ],
      "execution_count": 0,
      "outputs": []
    },
    {
      "cell_type": "markdown",
      "metadata": {
        "id": "CBC4uGsWJPxW",
        "colab_type": "text"
      },
      "source": [
        "## Pyramid"
      ]
    },
    {
      "cell_type": "code",
      "metadata": {
        "id": "icgt19jNwRb6",
        "colab_type": "code",
        "colab": {}
      },
      "source": [
        "his = build(train_imgs, codebook) \n",
        "\n",
        "x_data = []\n",
        "for data in his:\n",
        "  py = pyramid(data, 2)\n",
        "  x_data.append(py)\n",
        "\n",
        "his_test = build(test_imgs, codebook)\n",
        "\n",
        "x_test = []\n",
        "for data in his_test:\n",
        "  py = pyramid(data, 2)\n",
        "  x_test.append(py)\n",
        "\n",
        "x_train = np.asarray(x_data, dtype=np.float32)\n",
        "x_test = np.asarray(x_test, dtype=np.float32)\n"
      ],
      "execution_count": 0,
      "outputs": []
    },
    {
      "cell_type": "markdown",
      "metadata": {
        "id": "DwuimA5hHZ05",
        "colab_type": "text"
      },
      "source": [
        "## 히스토그램 스케일러"
      ]
    },
    {
      "cell_type": "code",
      "metadata": {
        "id": "ZFnaWc9M3uE8",
        "colab_type": "code",
        "colab": {}
      },
      "source": [
        "scaler = StandardScaler().fit(x_train)\n",
        "\n",
        "x_train = scaler.transform(x_train)\n",
        "x_test = scaler.transform(x_test)"
      ],
      "execution_count": 0,
      "outputs": []
    },
    {
      "cell_type": "markdown",
      "metadata": {
        "id": "rqnNXOzMG_ja",
        "colab_type": "text"
      },
      "source": [
        "## 성능 평가"
      ]
    },
    {
      "cell_type": "code",
      "metadata": {
        "id": "rpLigvbu42SK",
        "colab_type": "code",
        "colab": {}
      },
      "source": [
        "x_train_t, x_test_t, y_train_t, y_test_t = train_test_split(x_train, y_train)\n",
        "\n",
        "result = HI_SVM(x_train_t, x_test_t, y_train_t)\n",
        "#result = LSVM(x_train_t, x_test_t, y_train_t)\n",
        "\n",
        "print(classification_report(y_test_t, result))"
      ],
      "execution_count": 0,
      "outputs": []
    },
    {
      "cell_type": "markdown",
      "metadata": {
        "id": "fn6pDxeGHEwR",
        "colab_type": "text"
      },
      "source": [
        "## 제출용 코드"
      ]
    },
    {
      "cell_type": "code",
      "metadata": {
        "id": "3-sTlCoUrT2H",
        "colab_type": "code",
        "colab": {}
      },
      "source": [
        "result = HI_SVM(x_train, x_test, y_train)\n",
        "#result = LSVM(x_train, x_test, y_train)\n",
        "\n",
        "result = result.reshape(-1, 1)\n",
        "result_img_list = np.array(y_test).reshape(-1,1)\n",
        "total_result = np.hstack([result_img_list, result])\n",
        "print(total_result)"
      ],
      "execution_count": 0,
      "outputs": []
    },
    {
      "cell_type": "code",
      "metadata": {
        "id": "y6tzPQOUra1X",
        "colab_type": "code",
        "colab": {}
      },
      "source": [
        "df = pd.DataFrame(total_result, columns=[\"id\", \"Category\"])\n",
        "print(df)\n",
        "df.to_csv('results-tjkim-v3.csv', index=False, header=True)"
      ],
      "execution_count": 0,
      "outputs": []
    },
    {
      "cell_type": "code",
      "metadata": {
        "id": "Mev2FX73rhvu",
        "colab_type": "code",
        "colab": {}
      },
      "source": [
        "! kaggle competitions submit -c 2019-ml-finalproject -f results-tjkim-v3.csv -m \"Final_Term_Project\""
      ],
      "execution_count": 0,
      "outputs": []
    }
  ]
}